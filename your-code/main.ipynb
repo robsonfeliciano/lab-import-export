{
 "cells": [
  {
   "cell_type": "markdown",
   "metadata": {},
   "source": [
    "# Import and Export Files \n",
    "\n",
    "# Challenge 1 - Working with CSV and Other Separated Files\n",
    "\n",
    "Import the pandas library\n",
    "\n",
    "csv files are more commonly used as dataframes. In the cell below, load the file from the URL provided using the `read_csv()` function in pandas. Starting version 0.19 of pandas, you can load a csv file into a dataframe directly from a URL without having to load the file first like we did with the JSON URL. The dataset we will be using contains informtaions about NASA shuttles. \n",
    "\n",
    "In the cell below, we define the column names and the URL of the data. Following this cell, read the tst file to a variable called `shuttle`. Since the file does not contain the column names, you must add them yourself using the column names declared in `cols` using the `names` argument. Additionally, a tst file is space separated, make sure you pass ` sep=' '` to the function."
   ]
  },
  {
   "cell_type": "code",
   "execution_count": 2,
   "metadata": {},
   "outputs": [],
   "source": [
    "#Your pandas import here:\n",
    "import pandas as pd\n"
   ]
  },
  {
   "cell_type": "code",
   "execution_count": 3,
   "metadata": {},
   "outputs": [],
   "source": [
    "# Run this code:\n",
    "\n",
    "cols = ['time', 'rad_flow', 'fpv_close', 'fpv_open', 'high', 'bypass', 'bpv_close', 'bpv_open', 'class']\n",
    "tst_url = 'https://archive.ics.uci.edu/ml/machine-learning-databases/statlog/shuttle/shuttle.tst'"
   ]
  },
  {
   "cell_type": "code",
   "execution_count": 4,
   "metadata": {},
   "outputs": [],
   "source": [
    "# Your code here:\n",
    "shuttle = pd.read_csv(tst_url,names = cols,sep=' ')\n"
   ]
  },
  {
   "cell_type": "markdown",
   "metadata": {},
   "source": [
    "Let's verify that this worked by looking at the `head()` function."
   ]
  },
  {
   "cell_type": "code",
   "execution_count": 5,
   "metadata": {},
   "outputs": [
    {
     "name": "stdout",
     "output_type": "stream",
     "text": [
      "    time  rad_flow  fpv_close  fpv_open  high  bypass  bpv_close  bpv_open  \\\n",
      "55     0        81          0        -6    11      25         88        64   \n",
      "56     0        96          0        52    -4      40         44         4   \n",
      "50    -1        89         -7        50     0      39         40         2   \n",
      "53     9        79          0        42    -2      25         37        12   \n",
      "55     2        82          0        54    -6      26         28         2   \n",
      "\n",
      "    class  \n",
      "55      4  \n",
      "56      4  \n",
      "50      1  \n",
      "53      4  \n",
      "55      1  \n"
     ]
    }
   ],
   "source": [
    "# Your code here:\n",
    "print(shuttle.head())\n"
   ]
  },
  {
   "cell_type": "markdown",
   "metadata": {},
   "source": [
    "To make life easier for us, let's turn this dataframe into a comma separated file by saving it using the `to_csv()` function. Save `shuttle` into the file `shuttle.csv` and ensure the file is comma separated and that we are not saving the index column."
   ]
  },
  {
   "cell_type": "code",
   "execution_count": 6,
   "metadata": {},
   "outputs": [],
   "source": [
    "# Your code here:\n",
    "shuttle = shuttle.to_csv('shuttle.csv', index=False)"
   ]
  },
  {
   "cell_type": "markdown",
   "metadata": {},
   "source": [
    "# Challenge 2 - Working with Excel Files\n",
    "\n",
    "We can also use pandas to convert excel spreadsheets to dataframes. Let's use the `read_excel()` function. In this case, `astronauts.xls` is in the same folder that contains this notebook. Read this file into a variable called `astronaut`. \n",
    "\n",
    "Note: Make sure to install the `xlrd` library if it is not yet installed."
   ]
  },
  {
   "cell_type": "code",
   "execution_count": 22,
   "metadata": {},
   "outputs": [],
   "source": [
    "# Your code here:\n",
    "astronaut = pd.read_excel('astronauts.xls')\n"
   ]
  },
  {
   "cell_type": "markdown",
   "metadata": {},
   "source": [
    "Use the `head()` function to inspect the dataframe."
   ]
  },
  {
   "cell_type": "code",
   "execution_count": 23,
   "metadata": {},
   "outputs": [
    {
     "name": "stdout",
     "output_type": "stream",
     "text": [
      "               Name    Year  Group   Status Birth Date    Birth Place Gender  \\\n",
      "0   Joseph M. Acaba  2004.0   19.0   Active 1967-05-17  Inglewood, CA   Male   \n",
      "1    Loren W. Acton     NaN    NaN  Retired 1936-03-07   Lewiston, MT   Male   \n",
      "2  James C. Adamson  1984.0   10.0  Retired 1946-03-03     Warsaw, NY   Male   \n",
      "3   Thomas D. Akers  1987.0   12.0  Retired 1951-05-20  St. Louis, MO   Male   \n",
      "4       Buzz Aldrin  1963.0    3.0  Retired 1930-01-20  Montclair, NJ   Male   \n",
      "\n",
      "                                          Alma Mater     Undergraduate Major  \\\n",
      "0  University of California-Santa Barbara; Univer...                 Geology   \n",
      "1   Montana State University; University of Colorado     Engineering Physics   \n",
      "2          US Military Academy; Princeton University             Engineering   \n",
      "3                       University of Missouri-Rolla     Applied Mathematics   \n",
      "4                           US Military Academy; MIT  Mechanical Engineering   \n",
      "\n",
      "          Graduate Major Military Rank         Military Branch  Space Flights  \\\n",
      "0                Geology           NaN                     NaN              2   \n",
      "1          Solar Physics           NaN                     NaN              1   \n",
      "2  Aerospace Engineering       Colonel       US Army (Retired)              2   \n",
      "3    Applied Mathematics       Colonel  US Air Force (Retired)              4   \n",
      "4           Astronautics       Colonel  US Air Force (Retired)              2   \n",
      "\n",
      "   Space Flight (hr)  Space Walks  Space Walks (hr)  \\\n",
      "0               3307            2              13.0   \n",
      "1                190            0               0.0   \n",
      "2                334            0               0.0   \n",
      "3                814            4              29.0   \n",
      "4                289            2               8.0   \n",
      "\n",
      "                                            Missions Death Date Death Mission  \n",
      "0             STS-119 (Discovery), ISS-31/32 (Soyuz)        NaT           NaN  \n",
      "1                              STS 51-F (Challenger)        NaT           NaN  \n",
      "2               STS-28 (Columbia), STS-43 (Atlantis)        NaT           NaN  \n",
      "3  STS-41 (Discovery), STS-49 (Endeavor), STS-61 ...        NaT           NaN  \n",
      "4                               Gemini 12, Apollo 11        NaT           NaN  \n"
     ]
    }
   ],
   "source": [
    "# Your code here:\n",
    "print(astronaut.head())\n"
   ]
  },
  {
   "cell_type": "markdown",
   "metadata": {},
   "source": [
    "Use the `value_counts()` function to find the most popular undergraduate major among all astronauts."
   ]
  },
  {
   "cell_type": "code",
   "execution_count": 27,
   "metadata": {},
   "outputs": [
    {
     "data": {
      "text/plain": [
       "Physics                     35\n",
       "Aerospace Engineering       33\n",
       "Mechanical Engineering      30\n",
       "Aeronautical Engineering    28\n",
       "Electrical Engineering      23\n",
       "                            ..\n",
       "Geosciences                  1\n",
       "Psychology                   1\n",
       "Mathematics & Economics      1\n",
       "Industrial Engineering       1\n",
       "Astronomy                    1\n",
       "Name: Undergraduate Major, Length: 83, dtype: int64"
      ]
     },
     "execution_count": 27,
     "metadata": {},
     "output_type": "execute_result"
    }
   ],
   "source": [
    "# Your code here:\n",
    "astronaut['Undergraduate Major'].value_counts()"
   ]
  },
  {
   "cell_type": "markdown",
   "metadata": {},
   "source": [
    "Due to all the commas present in the cells of this file, let's save it as a tab separated csv file. In the cell below, save `astronaut` as a tab separated file using the `to_csv` function. Call the file `astronaut.csv` and remember to remove the index column."
   ]
  },
  {
   "cell_type": "code",
   "execution_count": 28,
   "metadata": {},
   "outputs": [],
   "source": [
    "# Your code here:\n",
    "astronaut = astronaut.to_csv('astronaut.csv', index=False)\n"
   ]
  },
  {
   "cell_type": "markdown",
   "metadata": {},
   "source": [
    "# Bonus Challenge - Fertility Dataset\n",
    "\n",
    "Visit the following [URL](https://archive.ics.uci.edu/ml/datasets/Fertility) and retrieve the dataset as well as the column headers. Determine the correct separator and read the file into a variable called `fertility`. Examine the dataframe using the `head()` function."
   ]
  },
  {
   "cell_type": "code",
   "execution_count": 34,
   "metadata": {},
   "outputs": [
    {
     "name": "stdout",
     "output_type": "stream",
     "text": [
      "   Season in which the analysis was performed  Age at the time of analysis  \\\n",
      "0                                       -0.33                         0.69   \n",
      "1                                       -0.33                         0.94   \n",
      "2                                       -0.33                         0.50   \n",
      "3                                       -0.33                         0.75   \n",
      "4                                       -0.33                         0.67   \n",
      "\n",
      "   Childish diseases (ie , chicken pox, measles, mumps, polio)  \\\n",
      "0                                                  0             \n",
      "1                                                  1             \n",
      "2                                                  1             \n",
      "3                                                  0             \n",
      "4                                                  1             \n",
      "\n",
      "   Accident or serious trauma  Surgical intervention  \\\n",
      "0                           1                      1   \n",
      "1                           0                      1   \n",
      "2                           0                      0   \n",
      "3                           1                      1   \n",
      "4                           1                      0   \n",
      "\n",
      "   High fevers in the last year  Frequency of alcohol consumption  \\\n",
      "0                             0                               0.8   \n",
      "1                             0                               0.8   \n",
      "2                             0                               1.0   \n",
      "3                             0                               1.0   \n",
      "4                             0                               0.8   \n",
      "\n",
      "   Smoking habit 1) never, 2) occasional 3) daily. (-1, 0, 1)  \\\n",
      "0                                                  0            \n",
      "1                                                  1            \n",
      "2                                                 -1            \n",
      "3                                                 -1            \n",
      "4                                                 -1            \n",
      "\n",
      "   Number of hours spent sitting per day ene-16 (0, 1)  \\\n",
      "0                                               0.88     \n",
      "1                                               0.31     \n",
      "2                                               0.50     \n",
      "3                                               0.38     \n",
      "4                                               0.50     \n",
      "\n",
      "  Output: Diagnosis normal (N), altered (O)  \n",
      "0                                         N  \n",
      "1                                         O  \n",
      "2                                         N  \n",
      "3                                         N  \n",
      "4                                         O  \n"
     ]
    }
   ],
   "source": [
    "# Your code here:\n",
    "col_names = ['Season in which the analysis was performed', 'Age at the time of analysis', 'Childish diseases (ie , chicken pox, measles, mumps, polio)', 'Accident or serious trauma','Surgical intervention', 'High fevers in the last year','Frequency of alcohol consumption','Smoking habit 1) never, 2) occasional 3) daily. (-1, 0, 1)','Number of hours spent sitting per day ene-16 (0, 1)','Output: Diagnosis normal (N), altered (O)']\n",
    "fertility = pd.read_csv('fertility_Diagnosis.txt', sep=',',names=col_names)\n",
    "print(fertility.head())"
   ]
  },
  {
   "cell_type": "code",
   "execution_count": null,
   "metadata": {},
   "outputs": [],
   "source": []
  }
 ],
 "metadata": {
  "kernelspec": {
   "display_name": "Python 3",
   "language": "python",
   "name": "python3"
  },
  "language_info": {
   "codemirror_mode": {
    "name": "ipython",
    "version": 3
   },
   "file_extension": ".py",
   "mimetype": "text/x-python",
   "name": "python",
   "nbconvert_exporter": "python",
   "pygments_lexer": "ipython3",
   "version": "3.8.3"
  }
 },
 "nbformat": 4,
 "nbformat_minor": 2
}
